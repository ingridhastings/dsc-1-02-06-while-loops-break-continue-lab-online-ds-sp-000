{
 "cells": [
  {
   "cell_type": "markdown",
   "metadata": {},
   "source": [
    "# While Loops, Break and Continue - Lab"
   ]
  },
  {
   "cell_type": "markdown",
   "metadata": {},
   "source": [
    "## Introduction\n",
    "In this lab, we will practice using `while` loops, and `break` and `continue` statements in our code. We will use our control flow statements to iterate through collections and filter out or selectively operate on each element. We'll use `while` loops to perform operations until a given condition is no longer true."
   ]
  },
  {
   "cell_type": "markdown",
   "metadata": {},
   "source": [
    "## Objectives\n",
    "You will be able to:\n",
    "* Use a break and continue statements inside a loop\n",
    "* Understand, explain and use while loops"
   ]
  },
  {
   "cell_type": "markdown",
   "metadata": {},
   "source": [
    "## Instructions\n",
    "\n",
    "### While Loops\n",
    "Use while loops to perform the below operations and get the expected return values"
   ]
  },
  {
   "cell_type": "code",
   "execution_count": 1,
   "metadata": {},
   "outputs": [
    {
     "name": "stdout",
     "output_type": "stream",
     "text": [
      "You have eaten 1 slices of pie\n",
      "You have eaten 2 slices of pie\n",
      "You have eaten 3 slices of pie\n",
      "You have eaten 4 slices of pie\n",
      "You have eaten 5 slices of pie\n",
      "You have eaten 6 slices of pie\n"
     ]
    }
   ],
   "source": [
    "# use a while loop to eat each slice of pie\n",
    "# add each slice to the slices_eaten variable\n",
    "\n",
    "slices_of_pie = 6\n",
    "slices_eaten = 0\n",
    "while slices_eaten < slices_of_pie:\n",
    "    slices_eaten += 1\n",
    "    print(\"You have eaten \" + str(slices_eaten) + \" slices of pie\")"
   ]
  },
  {
   "cell_type": "code",
   "execution_count": 2,
   "metadata": {},
   "outputs": [
    {
     "name": "stdout",
     "output_type": "stream",
     "text": [
      "You have made 1 pancakes and have 1414 seconds left for breakfast\n",
      "You have made 2 pancakes and have 1360 seconds left for breakfast\n",
      "You have made 3 pancakes and have 1306 seconds left for breakfast\n",
      "You have made 4 pancakes and have 1252 seconds left for breakfast\n",
      "You have made 5 pancakes and have 1198 seconds left for breakfast\n"
     ]
    }
   ],
   "source": [
    "# use a while loop to make yourself 5 pancakes for breakfast\n",
    "# each pancake takes 27 seconds to cook on each side\n",
    "# you must decrease the time_for_breakfast each time you \n",
    "# add a pancake to the skillet (frying pan) or flip a pancake (i.e. 2 times per pancake)\n",
    "# there is only room for one pancake at a time\n",
    "\n",
    "time_for_breakfast = 1468 # in seconds\n",
    "number_of_cooked_pancakes = 0\n",
    "while number_of_cooked_pancakes < 5:\n",
    "    number_of_cooked_pancakes += 1\n",
    "    time_for_breakfast = time_for_breakfast - (2 * 27)\n",
    "    print(\"You have made \" + str(number_of_cooked_pancakes) + \" pancakes and have \" + str(time_for_breakfast) + \" seconds left for breakfast\")"
   ]
  },
  {
   "cell_type": "markdown",
   "metadata": {},
   "source": [
    "> **Hint:** You may find the [remove method](https://www.programiz.com/python-programming/methods/list/remove) to be useful for the next problem"
   ]
  },
  {
   "cell_type": "code",
   "execution_count": 121,
   "metadata": {},
   "outputs": [
    {
     "name": "stdout",
     "output_type": "stream",
     "text": [
      "There are 15 hungry patrons:  1 3 5 7 9 11 13 15 17 19 21 23 25 27 29\n",
      "There are 15 fed patrons:  0 2 4 6 8 10 12 14 16 18 20 22 24 26 28\n"
     ]
    }
   ],
   "source": [
    "# use a while loop to to feed the hungry patrons who have an even number\n",
    "# add the patrons with an even number to the fed_patrons list\n",
    "# then remove the even numbered patrons from the line_of_hungry_patrons\n",
    "# each list should contain 15 elements\n",
    "\n",
    "line_of_hungry_patrons = list(range(0,30))\n",
    "fed_patrons = []\n",
    "for i in line_of_hungry_patrons:\n",
    "    if i%2 == 0:\n",
    "        line_of_hungry_patrons.remove(i)\n",
    "        fed_patrons.append(i)\n",
    "print(\"There are \" + str(len(line_of_hungry_patrons)) + \" hungry patrons: \", *line_of_hungry_patrons, sep=\" \")\n",
    "print(\"There are \" + str(len(fed_patrons)) + \" fed patrons: \", *fed_patrons, sep=\" \")"
   ]
  },
  {
   "cell_type": "code",
   "execution_count": 63,
   "metadata": {},
   "outputs": [],
   "source": [
    "### `break` And `continue` Statements"
   ]
  },
  {
   "cell_type": "markdown",
   "metadata": {},
   "source": [
    "We have a list of person objects with all kinds of attributes. We'll use loops to find a person that meets a certain requirement that we are looking for or create new lists with a certain subset of elements. Write for loops with conditional statements in conjunction with `break` and `continue` to get the desired output."
   ]
  },
  {
   "cell_type": "code",
   "execution_count": 4,
   "metadata": {},
   "outputs": [],
   "source": [
    "people = [\n",
    "    {'name': \"Daniel\", 'age': 29, 'job': \"Engineer\", 'pet': \"Cat\", 'pet_name': \"Gato\"}, \n",
    "    {'name': \"Katie\", 'age': 30, 'job': \"Teacher\", 'pet': \"Dog\", 'pet_name': \"Frank\"},\n",
    "    {'name': \"Owen\", 'age': 26, 'job': \"Sales person\", 'pet': \"Cat\", 'pet_name': \"Cosmo\"},\n",
    "    {'name': \"Josh\", 'age': 22, 'job': \"Student\", 'pet': \"Cat\", 'pet_name': \"Chat\"},\n",
    "    {'name': \"Estelle\", 'age': 35, 'job': \"French Diplomat\", 'pet': \"Dog\", 'pet_name': \"Gabby\"},\n",
    "    {'name': \"Gustav\", 'age': 24, 'job': \"Brewer\", 'pet': \"Dog\", 'pet_name': \"Helen\"}\n",
    "]"
   ]
  },
  {
   "cell_type": "code",
   "execution_count": 131,
   "metadata": {},
   "outputs": [
    {
     "name": "stdout",
     "output_type": "stream",
     "text": [
      "The first person that has a dog is: Katie\n",
      "{'name': 'Katie', 'age': 30, 'job': 'Teacher', 'pet': 'Dog', 'pet_name': 'Frank'}\n"
     ]
    }
   ],
   "source": [
    "# use the for loop below to find the *first* person in the list of people that has a dog as their pet\n",
    "# the iteration count shouldn't exceed 2 iterations\n",
    "\n",
    "first_dog_person = []\n",
    "iteration_count = 0\n",
    "\n",
    "for iteration_count in range(0, len(people)):\n",
    "    if people[iteration_count]['pet'] == 'Dog' and iteration_count<3:\n",
    "        first_dog_person = people[iteration_count]\n",
    "        print(\"The first person that has a dog is:\", first_dog_person['name'])\n",
    "        break"
   ]
  },
  {
   "cell_type": "code",
   "execution_count": 132,
   "metadata": {},
   "outputs": [
    {
     "name": "stdout",
     "output_type": "stream",
     "text": [
      "I found the cat owners!\n",
      "The people who own cats are: Owen, Josh\n"
     ]
    }
   ],
   "source": [
    "# use a for loop to create a list of the cat owners who are under the age of 28\n",
    "# remember to use break and continue to make your code more efficient\n",
    "cat_owners = []\n",
    "cat_owner = []\n",
    "i = 0\n",
    "\n",
    "# for loop goes here\n",
    "for i in range(0, len(people)):\n",
    "    if (people[i]['pet'] == 'Cat') and  (people[i]['age'] < 28):\n",
    "        cat_owners = people[i]['name']\n",
    "        cat_owner.append(cat_owners)\n",
    "print(\"I found the cat owners!\")\n",
    "print(\"The people who own cats are:\", ', '.join(cat_owner))"
   ]
  },
  {
   "cell_type": "code",
   "execution_count": 65,
   "metadata": {},
   "outputs": [
    {
     "name": "stdout",
     "output_type": "stream",
     "text": [
      "The first person over thirty is Katie\n"
     ]
    }
   ],
   "source": [
    "# use a for loop to find the first person who is above 29 years old in our list of people\n",
    "# remember to use a break and or continue statement\n",
    "\n",
    "thirty_something_yr_old = []\n",
    "i = 0\n",
    "\n",
    "# for loop goes here\n",
    "for i in range(0, len(people)):\n",
    "    if people[i]['age'] > 29:\n",
    "        thirty_something_yr_olds = people[i]['name']\n",
    "        thirty_something_yr_old.append(thirty_something_yr_olds)\n",
    "print(\"The first person over thirty is\", thirty_something_yr_old[0])"
   ]
  },
  {
   "cell_type": "code",
   "execution_count": 122,
   "metadata": {},
   "outputs": [
    {
     "name": "stdout",
     "output_type": "stream",
     "text": [
      "The people who own dogs are: \n",
      "The dog names are: Katie, Estelle, Gustav\n"
     ]
    }
   ],
   "source": [
    "# use a for loop to create a list of person names and another list of pet names for all dog owners\n",
    "# remember to use break and or continue statements\n",
    "\n",
    "dog_owner_names = []\n",
    "dog_name = []\n",
    "dog_owner = []\n",
    "i = 0\n",
    "\n",
    "# for loop goes here\n",
    "for i in range(0, len(people)):\n",
    "    if people[i]['pet'] == 'Dog':\n",
    "        dog_owners = people[i]['name']\n",
    "        dog_owner_names.append(dog_owners)       \n",
    "        dog_names = people[i]['pet_name']\n",
    "        dog_name.append(dog_names)\n",
    "print(\"The people who own dogs are:\", ', '.join(dog_owner))\n",
    "print(\"The dog names are:\", ', '.join(dog_owner_names))"
   ]
  },
  {
   "cell_type": "code",
   "execution_count": 78,
   "metadata": {},
   "outputs": [
    {
     "name": "stdout",
     "output_type": "stream",
     "text": [
      "The people who own cats are: Daniel, Owen, Josh\n",
      "The cat names are: Gato, Cosmo, Chat\n"
     ]
    }
   ],
   "source": [
    "# use a for loop to create a list of person names and another list of pet names for all cat owners this time\n",
    "# remember to use break and or continue statements\n",
    "# for loop goes here\n",
    "\n",
    "cat_owner_names = []\n",
    "cat_names = []\n",
    "cat_owners = []\n",
    "cat_name = []\n",
    "i = 0\n",
    "\n",
    "# for loop goes here\n",
    "for i in range(0, len(people)):\n",
    "    if people[i]['pet'] == 'Cat':\n",
    "        cat_owners = people[i]['name']\n",
    "        cat_owner_names.append(cat_owners)       \n",
    "        cat_name = people[i]['pet_name']\n",
    "        cat_names.append(cat_name)\n",
    "print(\"The people who own cats are:\", ', '.join(cat_owner_names))\n",
    "print(\"The cat names are:\", ', '.join(cat_names))"
   ]
  },
  {
   "cell_type": "code",
   "execution_count": 111,
   "metadata": {},
   "outputs": [
    {
     "name": "stdout",
     "output_type": "stream",
     "text": [
      "35\n",
      "11, 13, 15, 17, 19, 21, 23, 25, 27, 29, 31, 33, 35, 37, 39, 41, 43, 45, 47, 49, 51, 53, 55, 57, 59, 61, 63, 65, 67, 69, 71, 73, 75, 77, 79\n"
     ]
    }
   ],
   "source": [
    "# use a for loop to create a list of odd numbers from the list of numbers from 0 to 100\n",
    "# each time there is an odd number, add 10 to it and append it to the list_of_odd_numbers_plus_ten\n",
    "# stop adding numbers to the list when there are 35 numbers\n",
    "# use break and continue statements in your code\n",
    "\n",
    "list_of_numbers = list(range(0,100))\n",
    "list_of_odd_numbers_plus_ten = []\n",
    "odd_numbers = []\n",
    "\n",
    "for i in list_of_numbers:\n",
    "    if i%2!=0:\n",
    "        odd_numbers.append(i)\n",
    "        i+=10\n",
    "        list_of_odd_numbers_plus_ten.append(i)\n",
    "        if len(list_of_odd_numbers_plus_ten) == 35:\n",
    "            break\n",
    "print(len(list_of_odd_numbers_plus_ten))\n",
    "print(*list_of_odd_numbers_plus_ten, sep=\", \")"
   ]
  },
  {
   "cell_type": "markdown",
   "metadata": {},
   "source": [
    "## Summary"
   ]
  },
  {
   "cell_type": "markdown",
   "metadata": {},
   "source": [
    "In this lab, we practiced using while loops, which continue executing their block of code until the given condition is no longer truthy. This is useful for instances where we do not have a collection or do not need a collection to solve our problem, especially when we would only like to stop the process according to a certain condition. We then practiced using control flow statements, `break` and `continue`, to selectively operate on elements, append them to new lists, or assign them to new variables."
   ]
  }
 ],
 "metadata": {
  "kernelspec": {
   "display_name": "Python 3",
   "language": "python",
   "name": "python3"
  },
  "language_info": {
   "codemirror_mode": {
    "name": "ipython",
    "version": 3
   },
   "file_extension": ".py",
   "mimetype": "text/x-python",
   "name": "python",
   "nbconvert_exporter": "python",
   "pygments_lexer": "ipython3",
   "version": "3.7.0"
  }
 },
 "nbformat": 4,
 "nbformat_minor": 2
}
